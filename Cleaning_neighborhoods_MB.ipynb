{
 "cells": [
  {
   "cell_type": "code",
   "execution_count": 9,
   "metadata": {
    "collapsed": true
   },
   "outputs": [],
   "source": [
    "import pandas as pd\n",
    "import numpy as np\n",
    "#from sklearn.preprocessing import OneHotEncoder\n",
    "#from sklearn.feature_extraction import DictVectorizer"
   ]
  },
  {
   "cell_type": "code",
   "execution_count": 10,
   "metadata": {
    "collapsed": true
   },
   "outputs": [],
   "source": [
    "InputData = pd.read_csv('raw/listings.csv', sep=',')\n",
    "columnamesKeep = ['host_response_rate','host_identity_verified','neighbourhood_cleansed','latitude','longitude','property_type','room_type','accommodates','bathrooms','bedrooms','beds','bed_type','amenities','price','security_deposit','cleaning_fee','guests_included','extra_people','cancellation_policy']\n",
    "\n",
    "df_data = InputData[columnamesKeep]"
   ]
  },
  {
   "cell_type": "code",
   "execution_count": 11,
   "metadata": {
    "collapsed": false
   },
   "outputs": [
    {
     "data": {
      "text/plain": [
       "0        110\n",
       "1         20\n",
       "2         65\n",
       "3        109\n",
       "4        140\n",
       "5        140\n",
       "6         19\n",
       "7         30\n",
       "8         20\n",
       "9         40\n",
       "10        45\n",
       "11        30\n",
       "12        45\n",
       "13        45\n",
       "14        30\n",
       "15        30\n",
       "16        43\n",
       "17        42\n",
       "18        69\n",
       "19        25\n",
       "20       100\n",
       "21        10\n",
       "22        99\n",
       "23        70\n",
       "24        25\n",
       "25        99\n",
       "26        35\n",
       "27        60\n",
       "28        98\n",
       "29        65\n",
       "        ... \n",
       "14509     25\n",
       "14510     15\n",
       "14511     30\n",
       "14512     22\n",
       "14513     30\n",
       "14514     70\n",
       "14515     35\n",
       "14516     18\n",
       "14517     15\n",
       "14518     38\n",
       "14519     23\n",
       "14520     37\n",
       "14521     20\n",
       "14522     35\n",
       "14523     20\n",
       "14524     50\n",
       "14525     30\n",
       "14526     65\n",
       "14527     18\n",
       "14528     50\n",
       "14529    240\n",
       "14530    240\n",
       "14531    350\n",
       "14532     30\n",
       "14533     59\n",
       "14534     15\n",
       "14535     90\n",
       "14536     59\n",
       "14537     45\n",
       "14538     20\n",
       "Name: price, dtype: float64"
      ]
     },
     "execution_count": 11,
     "metadata": {},
     "output_type": "execute_result"
    }
   ],
   "source": [
    "# remove the $ from the price and convert to float\n",
    "df_data.loc[:,('price')] = df_data.loc[:,('price')].map(lambda x:x.replace('$',''))\n",
    "df_data.loc[:,('price')] = pd.to_numeric(df_data.loc[:,('price')],errors='coerce')\n",
    "df_data['price']"
   ]
  },
  {
   "cell_type": "code",
   "execution_count": 14,
   "metadata": {
    "collapsed": false
   },
   "outputs": [],
   "source": [
    "# Get one hot encoding of columns \n",
    "one_hot = pd.get_dummies(df_data['neighbourhood_cleansed'])\n",
    "# Drop column as it is now encoded\n",
    "df_data = df_data.drop('neighbourhood_cleansed', axis=1)\n",
    "# Join the encoded df\n",
    "df_data = df_data.join(one_hot)"
   ]
  },
  {
   "cell_type": "code",
   "execution_count": 15,
   "metadata": {
    "collapsed": false
   },
   "outputs": [
    {
     "data": {
      "text/html": [
       "<div>\n",
       "<table border=\"1\" class=\"dataframe\">\n",
       "  <thead>\n",
       "    <tr style=\"text-align: right;\">\n",
       "      <th></th>\n",
       "      <th>host_response_rate</th>\n",
       "      <th>host_identity_verified</th>\n",
       "      <th>latitude</th>\n",
       "      <th>longitude</th>\n",
       "      <th>property_type</th>\n",
       "      <th>room_type</th>\n",
       "      <th>accommodates</th>\n",
       "      <th>bathrooms</th>\n",
       "      <th>bedrooms</th>\n",
       "      <th>beds</th>\n",
       "      <th>...</th>\n",
       "      <th>la Teixonera</th>\n",
       "      <th>la Trinitat Nova</th>\n",
       "      <th>la Trinitat Vella</th>\n",
       "      <th>la Vall d'Hebron</th>\n",
       "      <th>la Verneda i la Pau</th>\n",
       "      <th>la Vila Olímpica del Poblenou</th>\n",
       "      <th>la Vila de Gràcia</th>\n",
       "      <th>les Corts</th>\n",
       "      <th>les Roquetes</th>\n",
       "      <th>les Tres Torres</th>\n",
       "    </tr>\n",
       "  </thead>\n",
       "  <tbody>\n",
       "    <tr>\n",
       "      <th>0</th>\n",
       "      <td>100%</td>\n",
       "      <td>t</td>\n",
       "      <td>41.378721</td>\n",
       "      <td>2.173981</td>\n",
       "      <td>Apartment</td>\n",
       "      <td>Entire home/apt</td>\n",
       "      <td>4</td>\n",
       "      <td>1</td>\n",
       "      <td>1</td>\n",
       "      <td>2</td>\n",
       "      <td>...</td>\n",
       "      <td>0</td>\n",
       "      <td>0</td>\n",
       "      <td>0</td>\n",
       "      <td>0</td>\n",
       "      <td>0</td>\n",
       "      <td>0</td>\n",
       "      <td>0</td>\n",
       "      <td>0</td>\n",
       "      <td>0</td>\n",
       "      <td>0</td>\n",
       "    </tr>\n",
       "    <tr>\n",
       "      <th>1</th>\n",
       "      <td>81%</td>\n",
       "      <td>f</td>\n",
       "      <td>41.378848</td>\n",
       "      <td>2.172998</td>\n",
       "      <td>Apartment</td>\n",
       "      <td>Private room</td>\n",
       "      <td>1</td>\n",
       "      <td>1</td>\n",
       "      <td>1</td>\n",
       "      <td>1</td>\n",
       "      <td>...</td>\n",
       "      <td>0</td>\n",
       "      <td>0</td>\n",
       "      <td>0</td>\n",
       "      <td>0</td>\n",
       "      <td>0</td>\n",
       "      <td>0</td>\n",
       "      <td>0</td>\n",
       "      <td>0</td>\n",
       "      <td>0</td>\n",
       "      <td>0</td>\n",
       "    </tr>\n",
       "    <tr>\n",
       "      <th>2</th>\n",
       "      <td>100%</td>\n",
       "      <td>t</td>\n",
       "      <td>41.376733</td>\n",
       "      <td>2.169411</td>\n",
       "      <td>Apartment</td>\n",
       "      <td>Private room</td>\n",
       "      <td>2</td>\n",
       "      <td>1</td>\n",
       "      <td>1</td>\n",
       "      <td>1</td>\n",
       "      <td>...</td>\n",
       "      <td>0</td>\n",
       "      <td>0</td>\n",
       "      <td>0</td>\n",
       "      <td>0</td>\n",
       "      <td>0</td>\n",
       "      <td>0</td>\n",
       "      <td>0</td>\n",
       "      <td>0</td>\n",
       "      <td>0</td>\n",
       "      <td>0</td>\n",
       "    </tr>\n",
       "  </tbody>\n",
       "</table>\n",
       "<p>3 rows × 89 columns</p>\n",
       "</div>"
      ],
      "text/plain": [
       "  host_response_rate host_identity_verified   latitude  longitude  \\\n",
       "0               100%                      t  41.378721   2.173981   \n",
       "1                81%                      f  41.378848   2.172998   \n",
       "2               100%                      t  41.376733   2.169411   \n",
       "\n",
       "  property_type        room_type  accommodates  bathrooms  bedrooms  beds  \\\n",
       "0     Apartment  Entire home/apt             4          1         1     2   \n",
       "1     Apartment     Private room             1          1         1     1   \n",
       "2     Apartment     Private room             2          1         1     1   \n",
       "\n",
       "        ...        la Teixonera la Trinitat Nova  la Trinitat Vella  \\\n",
       "0       ...                   0                0                  0   \n",
       "1       ...                   0                0                  0   \n",
       "2       ...                   0                0                  0   \n",
       "\n",
       "  la Vall d'Hebron la Verneda i la Pau  la Vila Olímpica del Poblenou  \\\n",
       "0                0                   0                              0   \n",
       "1                0                   0                              0   \n",
       "2                0                   0                              0   \n",
       "\n",
       "  la Vila de Gràcia les Corts  les Roquetes  les Tres Torres  \n",
       "0                 0         0             0                0  \n",
       "1                 0         0             0                0  \n",
       "2                 0         0             0                0  \n",
       "\n",
       "[3 rows x 89 columns]"
      ]
     },
     "execution_count": 15,
     "metadata": {},
     "output_type": "execute_result"
    }
   ],
   "source": [
    "df_data.head(3)"
   ]
  },
  {
   "cell_type": "code",
   "execution_count": null,
   "metadata": {
    "collapsed": true
   },
   "outputs": [],
   "source": []
  }
 ],
 "metadata": {
  "kernelspec": {
   "display_name": "Python 2",
   "language": "python",
   "name": "python2"
  },
  "language_info": {
   "codemirror_mode": {
    "name": "ipython",
    "version": 2
   },
   "file_extension": ".py",
   "mimetype": "text/x-python",
   "name": "python",
   "nbconvert_exporter": "python",
   "pygments_lexer": "ipython2",
   "version": "2.7.11"
  }
 },
 "nbformat": 4,
 "nbformat_minor": 0
}
